{
 "cells": [
  {
   "cell_type": "code",
   "execution_count": null,
   "id": "e22661cc",
   "metadata": {},
   "outputs": [
    {
     "name": "stdout",
     "output_type": "stream",
     "text": [
      "{'H': 1, 'o': 3, 'y': 1, 'e': 1, 's': 1, 'D': 1, 'm': 1, 'i': 1, 'n': 1, 'g': 1}\n"
     ]
    }
   ],
   "source": [
    "# 1 Escribe una función que reciba una cadena de texto como parámetro y devuelva un diccionario con las frecuencias\n",
    "#de cada letra en la cadena. Los espacios no deben ser considerados\n",
    "\n",
    "def contar_frecuencias(palabra):\n",
    "    diccionario = {}\n",
    "    for letra in palabra:\n",
    "        if letra != \" \": #con esto no cuenta los espacios\n",
    "            if letra in diccionario:\n",
    "                diccionario[letra] += 1\n",
    "            else:\n",
    "                diccionario[letra] = 1\n",
    "    return diccionario\n",
    "\n",
    "Posiciones = contar_frecuencias (\"Hoy es Domingo\")\n",
    "\n",
    "print(Posiciones)\n",
    "\n",
    "#CON LIST COMPREHENSION\n",
    "def contar_letras(texto):\n",
    "    texto = texto.replace(\" \", \"\")  # Quitamos espacios\n",
    "    letras = set(texto)  # Letras únicas\n",
    "    return {letra: texto.count(letra) for letra in letras}\n"
   ]
  },
  {
   "cell_type": "code",
   "execution_count": null,
   "id": "72ad3a3d",
   "metadata": {},
   "outputs": [
    {
     "name": "stdout",
     "output_type": "stream",
     "text": [
      "[4, 8, 12, 16]\n"
     ]
    }
   ],
   "source": [
    " # 2 Dada una lista de números, obtén una nueva lista con el doble de cada valor. Usa la función map()\n",
    "\n",
    "Lista = [2, 4, 6, 8]\n",
    "\n",
    "resultado = map(lambda x: x * 2, Lista) #usamos funcion lambda ya que la usaremos una vez y es la forma mas rapida de usar el MAP y la funcion en sí\n",
    "\n",
    "print (list(resultado))"
   ]
  },
  {
   "cell_type": "code",
   "execution_count": null,
   "id": "bfa71214",
   "metadata": {},
   "outputs": [
    {
     "name": "stdout",
     "output_type": "stream",
     "text": [
      "['durazno']\n"
     ]
    }
   ],
   "source": [
    "# 3 Escribe una función que tome una lista de palabras y una palabra objetivo como parámetros. La función debe\n",
    "#devolver una lista con todas las palabras de la lista original que contengan la palabra objetivo\n",
    "\n",
    "lista_de_palabras = [\"naranja\", \"pera\", \"uva\", \"durazno\"]\n",
    "palabra_objetivo = \"durazno\"\n",
    "\n",
    "resultado = []\n",
    "\n",
    "for palabra in lista_de_palabras:\n",
    "    if palabra_objetivo in palabra: #si la palabra objetivo está en palabra (en cada vuelta que da el bucle, es decir, cada una de las 4 vueltas, colocarla en la lista resultad)\n",
    "     resultado.append(palabra)                   \n",
    "\n",
    "print(resultado) #primero hago un codigo funcionar para ver lo que quiero plasmar en la funcion\n",
    "\n"
   ]
  },
  {
   "cell_type": "code",
   "execution_count": null,
   "id": "898347e1",
   "metadata": {},
   "outputs": [
    {
     "name": "stdout",
     "output_type": "stream",
     "text": [
      "['pera']\n"
     ]
    }
   ],
   "source": [
    "# 3 Escribe una función que tome una lista de palabras y una palabra objetivo como parámetros. La función debe\n",
    "#devolver una lista con todas las palabras de la lista original que contengan la palabra objetivo (SEGUIMIENTO DEL BLOQUE ANTERIOR)\n",
    "\n",
    "def filtrar_palabras(lista_palabras, palabra_objetivo): \n",
    "    lista = []\n",
    "    for palabra in lista_palabras:\n",
    "         if palabra_objetivo in palabra:\n",
    "            lista.append(palabra)\n",
    "    return lista\n",
    "#esta funcion realiza la busqueda de una palabra objetivo en una lista, para usarla debo realizar la lista y la palabra objetivo, funcion con dos argumentos\n",
    "listado = [\"pera\", \"manzana\", \"durazno\"]\n",
    "objetivo = \"pera\"\n",
    "\n",
    "resultado = filtrar_palabras (listado, objetivo)\n",
    "\n",
    "print (resultado)"
   ]
  },
  {
   "cell_type": "code",
   "execution_count": 76,
   "id": "b0091eac",
   "metadata": {},
   "outputs": [
    {
     "name": "stdout",
     "output_type": "stream",
     "text": [
      "[3, 0, 3, 5]\n"
     ]
    }
   ],
   "source": [
    "# 4 Genera una función que calcule la diferencia entre los valores de dos listas. Usa la función map\n",
    "\n",
    "def operaciones_listas(variable1, variable2):\n",
    "    operacion = map(lambda x, y: x - y, variable1, variable2) #colocamos que la variable x se reste con la variable y, al poner dos listas se restan por posicion de ambas listas, es decir -pos1 lista 1 - posion 2 lista 2\n",
    "    return operacion\n",
    "\n",
    "lista_1 = [8, 3, 10, 7 ]\n",
    "lista_2 = [5, 3, 7, 2]\n",
    "\n",
    "resultado = operaciones_listas(lista_1, lista_2)\n",
    "\n",
    "print(list(resultado))\n",
    "\n",
    "\n"
   ]
  },
  {
   "cell_type": "code",
   "execution_count": null,
   "id": "6ea680f9",
   "metadata": {},
   "outputs": [
    {
     "name": "stdout",
     "output_type": "stream",
     "text": [
      "la nota media es de (7.0, 'aprobado')\n"
     ]
    }
   ],
   "source": [
    "# 5 Escribe una función que tome una lista de números como parámetro y un valor opcional nota_aprobado, que por defecto es 5. La función debe calcular la media de los números en la lista y \n",
    "# determinar si la media es mayor o igual que nota aprobado. Si es así, el estado será \"aprobado\", de lo contrario, será \"suspenso\". \n",
    "# La función debe devolver una tupla que contenga la media y el estado.\n",
    "\n",
    "def estado_notas(notas, notas_aprobado=5):\n",
    "    media = sum(notas) / len(notas) #la funcion realizará la operación de sacar la media, se usa len para que nos devuelva la cantidad de elementos dentro de la lista y se divide entre la sumatoria de la lista\n",
    "    if media >= notas_aprobado:#cabe aclarar que pudiera poner if>=5 y quitar un parametro de la funcion (dejar solo notas) y serviría también, pero de esta forma puedo cambiar el valor del 2do parametro\n",
    "        #cuando llame la funcion y hacerla mas flexible por si un dia quiero cambiar la nota del aprobado por ejemplo, que ahora pasen con media de 4, cambio el numero abajo y listo\n",
    "        estado = \"aprobado\"\n",
    "    else:\n",
    "        estado = \"suspenso\"\n",
    "    return (media, estado)\n",
    "\n",
    "estado=estado_notas([8,6,7],5)\n",
    "\n",
    "print(\"la nota media es de\", estado)"
   ]
  },
  {
   "cell_type": "code",
   "execution_count": 75,
   "id": "58f44a5b",
   "metadata": {},
   "outputs": [
    {
     "name": "stdout",
     "output_type": "stream",
     "text": [
      "24\n"
     ]
    }
   ],
   "source": [
    "# 6 Escribe una función que calcule el factorial de un número de manera recursiva.\n",
    "\n",
    "#primero lo escribo de forma normal para entenderlo, me piden el factorial de un numero\n",
    "n = 5\n",
    "resultado = 1\n",
    "\n",
    "for i in range(n, 0, -1):  # Empieza en 5, termina en 1, se mulplica 1x5, luego el resultado por 4 y asi hasta el 1 \n",
    "    resultado = resultado * i\n",
    "\n",
    "\n",
    "#Ahora haré la funcion con la idea mas clara\n",
    "def factorial(n):\n",
    "    if n == 1 or n == 0:     # Caso base: cuando n es 1 o 0, devolvemos 1 (regla del factorial)\n",
    "        return 1\n",
    "    else:\n",
    "        return n * factorial(n - 1)  # Llamada recursiva (cuando n sea mas de 1 la funcion se llama a si misma, es decir, da los resultados)\n",
    "    \n",
    "#Como tiene el return dos veces, en dos condiciones, es como una especie de bucle, que se seguirá usando hasta llegar al IF \n",
    "# que marca claramente que una vez sea 0 o 1 el return dará directamente un 1, esto hace que sea recursiva esta funcion\n",
    "\n",
    "final=factorial(4) #da 24, es decir 4x1=4x3=12x2=24x1=24 y termina\n",
    "\n",
    "print (final)"
   ]
  },
  {
   "cell_type": "code",
   "execution_count": null,
   "id": "bbebd074",
   "metadata": {},
   "outputs": [
    {
     "name": "stdout",
     "output_type": "stream",
     "text": [
      "['adios', ('Python', 'Genial')]\n",
      "[('Hola', 'Mundo'), ('Python', 'Genial')]\n"
     ]
    },
    {
     "ename": "TypeError",
     "evalue": "'tuple' object does not support item assignment",
     "output_type": "error",
     "traceback": [
      "\u001b[31m---------------------------------------------------------------------------\u001b[39m",
      "\u001b[31mTypeError\u001b[39m                                 Traceback (most recent call last)",
      "\u001b[36mCell\u001b[39m\u001b[36m \u001b[39m\u001b[32mIn[55]\u001b[39m\u001b[32m, line 9\u001b[39m\n\u001b[32m      6\u001b[39m \u001b[38;5;28mprint\u001b[39m(prueba3)\n\u001b[32m      8\u001b[39m prueba2=[(\u001b[33m\"\u001b[39m\u001b[33mHola\u001b[39m\u001b[33m\"\u001b[39m, \u001b[33m\"\u001b[39m\u001b[33mMundo\u001b[39m\u001b[33m\"\u001b[39m), (\u001b[33m\"\u001b[39m\u001b[33mPython\u001b[39m\u001b[33m\"\u001b[39m, \u001b[33m\"\u001b[39m\u001b[33mGenial\u001b[39m\u001b[33m\"\u001b[39m)]\n\u001b[32m----> \u001b[39m\u001b[32m9\u001b[39m \u001b[43mprueba2\u001b[49m\u001b[43m[\u001b[49m\u001b[32;43m0\u001b[39;49m\u001b[43m]\u001b[49m\u001b[43m[\u001b[49m\u001b[32;43m0\u001b[39;49m\u001b[43m]\u001b[49m=\u001b[33m\"\u001b[39m\u001b[33madios\u001b[39m\u001b[33m\"\u001b[39m \u001b[38;5;66;03m#modifico el 2do elemento que es la tupla, debe dar error\u001b[39;00m\n\u001b[32m     10\u001b[39m \u001b[38;5;28mprint\u001b[39m(prueba2)\n",
      "\u001b[31mTypeError\u001b[39m: 'tuple' object does not support item assignment"
     ]
    }
   ],
   "source": [
    "# 7 Genera una función que convierta una lista de tuplas a una lista de strings. Usa la función map()\n",
    "\n",
    "#primero voy a hacer unas pruebas con las tuplas para entender lo que quiero\n",
    "prueba=[(\"Hola\", \"Mundo\"), (\"Python\", \"Genial\")]\n",
    "prueba[0]=\"adios\" #modifico el primer elemento que es la lista, por eso cambia\n",
    "print(prueba) #Me piden algo parecido a esto\n",
    "\n",
    "prueba3=[(\"Hola\", \"Mundo\"), (\"Python\", \"Genial\")]\n",
    "print(prueba3)\n",
    "\n",
    "prueba2=[(\"Hola\", \"Mundo\"), (\"Python\", \"Genial\")]\n",
    "prueba2[0][0]=\"adios\" #modifico el 2do elemento que es la tupla, debe dar error\n",
    "print(prueba2)\n",
    "\n"
   ]
  },
  {
   "cell_type": "code",
   "execution_count": null,
   "id": "f4d50f3c",
   "metadata": {},
   "outputs": [
    {
     "name": "stdout",
     "output_type": "stream",
     "text": [
      "['Hola Mundo', 'Python Genial']\n",
      "['Hola Mundo', 'Python Genial']\n"
     ]
    }
   ],
   "source": [
    "# 7 Genera una función que convierta una lista de tuplas a una lista de strings. Usa la función map()\n",
    "lista_tuplas = [(\"Hola\", \"Mundo\"), (\"Python\", \"Genial\")]\n",
    "\n",
    "lista_strings = []\n",
    "\n",
    "for tupla in lista_tuplas:\n",
    "    string = \" \".join(tupla)  # Une los elementos de la tupla con espacio\n",
    "    lista_strings.append(string)\n",
    "\n",
    "print(lista_strings)\n",
    "#sin la funcion (para verlo mejor antes de hacerlo)\n",
    "\n",
    "#ESTO ES LO QUE PIDE EL EJERCICIO\n",
    "def tuplas_a_strings(lista_tuplas):\n",
    "    return map(lambda tupla: \" \".join(tupla), lista_tuplas)\n",
    "\n",
    "lista_1 = [(\"Hola\", \"Mundo\"), (\"Python\", \"Genial\")]\n",
    "\n",
    "resultado=tuplas_a_strings(lista_1)\n",
    "\n",
    "print(list(resultado))\n",
    "\n",
    "#en este ejercicio el join se ejecuta en una sola lista y lo que me hace el for (el buble que hice antes para entender lo que debo hacer), \n",
    "# que tengo que poner el append, esto lo hace por detras el lambda y me genera el solo la lista nueva,\n",
    "# por eso se usa una sola lista, en vez de hacer una lista vacia y que me lo aplique a parte, el map opera solo (guardo esta explicación para mi ya que me costó el ejercicio)"
   ]
  },
  {
   "cell_type": "code",
   "execution_count": null,
   "id": "be61edf4",
   "metadata": {},
   "outputs": [
    {
     "name": "stdout",
     "output_type": "stream",
     "text": [
      "Error: Debes ingresar valores numéricos.\n"
     ]
    }
   ],
   "source": [
    "# 8 Escribe un programa que pida al usuario dos números e intente dividirlos. Si el usuario ingresa un valor no numérico o intenta dividir por cero, \n",
    "# maneja esas excepciones de manera adecuada. Asegúrate de mostrar un mensaje indicando si la división fue exitosa o no.\n",
    "\n",
    "try:\n",
    "    num1 = float(input(\"Ingresa el primer número: \"))\n",
    "    num2 = float(input(\"Ingresa el segundo número: \"))\n",
    "    resultado = num1 / num2\n",
    "except ValueError:\n",
    "    print(\"Error: Debes ingresar valores numéricos.\")\n",
    "except ZeroDivisionError:\n",
    "    print(\"Error: No se puede dividir entre cero.\")\n",
    "else:\n",
    "    print(\"División exitosa. Resultado:\", resultado)\n",
    "\n",
    "#para inputs que tengan valores de texto es mejor usar Try en input ya que como el float no puede convertir letra en decimales \n",
    "#lanzará inmediatamente un error antes de llegar a cualquier bloque siguiente, por lo que aqui usaremos el except value error para\n",
    "#que omita el error y siga el codigo"
   ]
  },
  {
   "cell_type": "code",
   "execution_count": null,
   "id": "827e0eb6",
   "metadata": {},
   "outputs": [
    {
     "name": "stdout",
     "output_type": "stream",
     "text": [
      "Error: Debes ingresar valores numéricos.\n",
      "Error: Debes ingresar valores numéricos.\n",
      "Error: Debes ingresar valores numéricos.\n",
      "Error: Debes ingresar valores numéricos.\n",
      "Error: No se puede dividir entre cero.\n",
      "División exitosa. Resultado: 1.0\n"
     ]
    }
   ],
   "source": [
    "#EJERCICIO 8 NUEVAMENTE, lo agrego de esta forma también para mi ya que se puede de ambas formas, me gusta mas con el bucle ya que así\n",
    "#el usuario trabaja hasta que sea correcto\n",
    "\n",
    "while True:\n",
    "    try:\n",
    "        num1 = float(input(\"Ingresa el primer número: \"))\n",
    "        num2 = float(input(\"Ingresa el segundo número: \"))\n",
    "        resultado = num1 / num2\n",
    "    except ValueError:\n",
    "        print(\"Error: Debes ingresar valores numéricos.\")\n",
    "        continue\n",
    "    except ZeroDivisionError:\n",
    "        print(\"Error: No se puede dividir entre cero.\")\n",
    "        continue\n",
    "    else:\n",
    "        print(\"División exitosa. Resultado:\", resultado)\n",
    "        break  # Salir del bucle si todo fue bien\n"
   ]
  },
  {
   "cell_type": "code",
   "execution_count": 84,
   "id": "78f8b283",
   "metadata": {},
   "outputs": [
    {
     "name": "stdout",
     "output_type": "stream",
     "text": [
      "['ave', 'pelicano']\n"
     ]
    }
   ],
   "source": [
    "# 9. Escribe una función que tome una lista de nombres de mascotas como parámetro y devuelva una nueva lista\n",
    "#excluyendo ciertas mascotas prohibidas en España. La lista de mascotas a excluir es [\"Mapache\", \"Tigre\",\n",
    "#\"Serpiente Pitón\", \"Cocodrilo\", \"Oso\"].Usa la función filter()\n",
    "\n",
    "def lista_numeros(lista_mascotas):\n",
    "    prohibidas=[\"mapache\", \"tigre\", \"serpiente pitón\", \"cocodrilo\", \"oso\"]\n",
    "    mascotas_prohibidas = filter(lambda x: x not in prohibidas, lista_mascotas)\n",
    "    return mascotas_prohibidas\n",
    "\n",
    "animales=[\"ave\",\"oso\", \"pelicano\"]\n",
    "\n",
    "resultado = lista_numeros(animales)\n",
    "\n",
    "print(list(resultado))\n"
   ]
  },
  {
   "cell_type": "code",
   "execution_count": null,
   "id": "d33d4a63",
   "metadata": {},
   "outputs": [
    {
     "name": "stdout",
     "output_type": "stream",
     "text": [
      "Error: La lista está vacía, no se puede calcular la media.\n"
     ]
    }
   ],
   "source": [
    "# 10 Escribe una función que reciba una lista de números y calcule su promedio. Si la lista está vacía, lanza una \n",
    "# excepción personalizada y maneja el error adecuadamente.\n",
    "def estado_notas(numeros):\n",
    "    if len(numeros) == 0:\n",
    "        raise ValueError(\"La lista está vacía, no se puede calcular la media.\")\n",
    "    #colocamos este tipo de error para luego indicarlo en el except y lanzar la indicacion que queremos dar\n",
    "    media = sum(numeros) / len(numeros)\n",
    "    return media\n",
    "\n",
    "lista2 = []  # Puedes probar también con lista2 = [] para ver el error\n",
    "\n",
    "try:\n",
    "    resultado = estado_notas(lista2)\n",
    "except ValueError as a:#lo asignamos con otro nombre para que de la descripcion del tipo de error que pusimos arriba para que se sepa que pasa\n",
    "    print(\"Error:\", a)#mensaje que damos al usuario\n",
    "else:\n",
    "    print(\"La media es:\", resultado)# si no se cumple el if, da el resultado\n"
   ]
  },
  {
   "cell_type": "code",
   "execution_count": 105,
   "id": "2f75c005",
   "metadata": {},
   "outputs": [
    {
     "name": "stdout",
     "output_type": "stream",
     "text": [
      "No se permite colocar texto\n"
     ]
    }
   ],
   "source": [
    "# 11 Escribe un programa que pida al usuario que introduzca su edad. Si el usuario ingresa un valor no numérico o un\n",
    "# valor fuera del rango esperado (por ejemplo, menor que 0 o mayor que 120), maneja las excepciones adecuadamente.\n",
    "\n",
    "try:\n",
    "    edad = int(input(\"Ingresa tu edad: \"))\n",
    "    if edad >= 1 and edad <=110:\n",
    "        print (\"tienes\",edad, \"años\")\n",
    "    else:\n",
    "        print (\"Coloca un numero entre 1 y 100\")\n",
    "except ValueError:\n",
    "    print (\"No se permite colocar texto\")"
   ]
  },
  {
   "cell_type": "code",
   "execution_count": 114,
   "id": "5ec800d0",
   "metadata": {},
   "outputs": [
    {
     "name": "stdout",
     "output_type": "stream",
     "text": [
      "[4, 4]\n"
     ]
    }
   ],
   "source": [
    "#12. Genera una función que al recibir una frase devuelva una lista con la longitud de cada palabra. Usa la función map()\n",
    "\n",
    "def lista(longitud_lista):\n",
    "    return map(lambda x: len(x), longitud_lista)\n",
    "\n",
    "palabras = [\"Hola\", \"Chao\"]\n",
    "resultado=lista(palabras)\n",
    "\n",
    "print(list(resultado))"
   ]
  },
  {
   "cell_type": "code",
   "execution_count": null,
   "id": "a2d171dd",
   "metadata": {},
   "outputs": [
    {
     "name": "stdout",
     "output_type": "stream",
     "text": [
      "[('C', 'c'), ('L', 'l'), ('A', 'a'), ('U', 'u'), ('D', 'd'), ('I', 'i'), ('O', 'o')]\n"
     ]
    }
   ],
   "source": [
    "#13. Genera una función la cual, para un conjunto de caracteres, devuelva una lista de tuplas con cada letra en mayúsculas y minúsculas. \n",
    "# Las letras no pueden estar repetidas .Usa la función map()\n",
    "\n",
    "def eliminar_repetidas(texto):\n",
    "    resultado = []\n",
    "    for letra in texto:\n",
    "        if letra not in resultado:\n",
    "            resultado.append(letra)\n",
    "    return resultado\n",
    "\n",
    "#Hacemos primero este FOR para que mantenga el orden de la lista\n",
    "\n",
    "def convertir_letras(texto):\n",
    "    unicas = eliminar_repetidas(texto)\n",
    "    return map(lambda x: (x.upper(), x.lower()), unicas)\n",
    "\n",
    "#Ahora definimos la funcion del MAP, dentro metemos la funcion del FOR de eliminar repetidas, con eso se mantiene tanto el orden como la devolucion de cada letra mayuscula y minuscula\n",
    "\n",
    "tupla =(\"Claudio\")\n",
    "\n",
    "resultado = convertir_letras (tupla)\n",
    "\n",
    "print (list(resultado))"
   ]
  },
  {
   "cell_type": "code",
   "execution_count": null,
   "id": "b9fdab28",
   "metadata": {},
   "outputs": [
    {
     "name": "stdout",
     "output_type": "stream",
     "text": [
      "['Hola']\n"
     ]
    }
   ],
   "source": [
    "#14. Crea una función que retorne las palabras de una lista de palabras que comience con una letra en especifico. Usa la función filter()\n",
    "\n",
    "def filtrar_lista(lista, letra_inicial):\n",
    "    return filter(lambda x: x.startswith(letra_inicial), lista) #aqui estamos colocando que el filtro del 2do parametro se aplique al primer parametro (lista)\n",
    "\n",
    "Lista=[\"Hola\", \"Chao\"]\n",
    "Iniciales=(\"H\")\n",
    "\n",
    "resultado=filtrar_lista(Lista, Iniciales)\n",
    "\n",
    "print(list(resultado))"
   ]
  },
  {
   "cell_type": "code",
   "execution_count": 125,
   "id": "898dd5a4",
   "metadata": {},
   "outputs": [
    {
     "name": "stdout",
     "output_type": "stream",
     "text": [
      "[8, 9, 11]\n"
     ]
    }
   ],
   "source": [
    "#15. Crea una función lambda que sume 3 a cada número de una lista dada\n",
    "\n",
    "def sumar_3(numeros):\n",
    "    return map(lambda x: x+3, numeros)\n",
    "\n",
    "lista_numeros=[5,6,8]\n",
    "\n",
    "resultado=sumar_3(lista_numeros)\n",
    "\n",
    "print(list(resultado))"
   ]
  },
  {
   "cell_type": "code",
   "execution_count": 129,
   "id": "3e282985",
   "metadata": {},
   "outputs": [
    {
     "name": "stdout",
     "output_type": "stream",
     "text": [
      "['claudio']\n"
     ]
    }
   ],
   "source": [
    "#16. Escribe una función que tome una cadena de texto y un número entero n como parámetros y devuelva una lista de todas las palabras que sean más largas que n. Usa la función filter()\n",
    "def filtrar_texto(lista):\n",
    "    return filter(lambda x: len(x)>5, lista)\n",
    "\n",
    "lista_letras=[\"hola\", \"claudio\"]\n",
    "\n",
    "resultado=filtrar_texto(lista_letras)\n",
    "\n",
    "print(list(resultado))"
   ]
  },
  {
   "cell_type": "code",
   "execution_count": null,
   "id": "9da24ed9",
   "metadata": {},
   "outputs": [
    {
     "name": "stdout",
     "output_type": "stream",
     "text": [
      "523\n"
     ]
    }
   ],
   "source": [
    "# 17. Crea una función que tome una lista de dígitos y devuelva el número correspondiente. Por ejemplo, [5,7,2] corresponde al número quinientos setenta y dos (572). Usa la función reduce()\n",
    "\n",
    "def unir_digitos(lista):\n",
    "    # Convertir cada número a string\n",
    "    strings = map(str, lista)\n",
    "    # Unirlos todos\n",
    "    unido = \"\".join(strings)\n",
    "    # Convertir el resultado a entero\n",
    "    return int(unido)\n",
    "#primero quise hacerlo sin el reduce para aclararme, me lo guardo para mi para tenerlo como ejemplo en ocasiones futuras\n",
    "#AHORA EL EJECICIO\n",
    "from functools import reduce\n",
    "\n",
    "def unir_digitos(lista):\n",
    "    return reduce(lambda x, y: x * 10 + y, lista)\n",
    "\n",
    "resultado = unir_digitos([5, 2, 3]) #la tupla me lo une ya que multiplica 5*10=50+2=52*10=520+3=523\n",
    "print(resultado)\n",
    "\n"
   ]
  },
  {
   "cell_type": "code",
   "execution_count": 137,
   "id": "0a20ce1d",
   "metadata": {},
   "outputs": [
    {
     "name": "stdout",
     "output_type": "stream",
     "text": [
      "[5, 7]\n"
     ]
    }
   ],
   "source": [
    "#19. Crea una función lambda que filtre los números impares de una lista dada.\n",
    "\n",
    "def filtro_impares(lista):\n",
    "    return filter(lambda x: x % 2 != 0, lista)\n",
    "\n",
    "numeros=[5,2,4,7]\n",
    "\n",
    "resultado=filtro_impares(numeros)\n",
    "\n",
    "print(list(resultado))\n"
   ]
  },
  {
   "cell_type": "code",
   "execution_count": 2,
   "id": "f8d3f8ff",
   "metadata": {},
   "outputs": [
    {
     "name": "stdout",
     "output_type": "stream",
     "text": [
      "[5, 2]\n"
     ]
    }
   ],
   "source": [
    "# 20 Para una lista con elementos tipo integer y string obtén una nueva lista sólo con los valores int. Usa la función filter()\n",
    "\n",
    "def filtrar_enteros(lista):\n",
    "    return filter(lambda x: isinstance(x, int), lista)#insinstance es una funcion para que nos traiga solo numeros entero si la lista los posee, nos devuelve true a los numeros enteros\n",
    "\n",
    "lista=[\"hola\",5,\"chao\",2]\n",
    "\n",
    "resultado=filtrar_enteros(lista)\n",
    "\n",
    "print(list(resultado))\n"
   ]
  },
  {
   "cell_type": "code",
   "execution_count": 8,
   "id": "75a5f49d",
   "metadata": {},
   "outputs": [
    {
     "name": "stdout",
     "output_type": "stream",
     "text": [
      "[8, 27, 64]\n"
     ]
    }
   ],
   "source": [
    "#21 Crea una función que calcule el cubo de un número dado mediante una función lambda\n",
    "\n",
    "def cubo(numero):\n",
    "    return map(lambda x: x**3, numero)\n",
    "\n",
    "lista_numeros=[2,3,4]\n",
    "\n",
    "resultado=cubo(lista_numeros)\n",
    "\n",
    "print(list(resultado))"
   ]
  },
  {
   "cell_type": "code",
   "execution_count": 11,
   "id": "894a9f2c",
   "metadata": {},
   "outputs": [
    {
     "name": "stdout",
     "output_type": "stream",
     "text": [
      "125\n"
     ]
    }
   ],
   "source": [
    "#22 Dada una lista numérica, obtén el producto total de los valores de dicha lista.Usa la función reduce() .\n",
    "\n",
    "from functools import reduce\n",
    "\n",
    "def producto_total(numeros):\n",
    "    return reduce(lambda x,y: x*y, numeros)\n",
    "\n",
    "resultado=producto_total([5,5,5])\n",
    "\n",
    "print(resultado)"
   ]
  },
  {
   "cell_type": "code",
   "execution_count": 14,
   "id": "0a33ce64",
   "metadata": {},
   "outputs": [
    {
     "name": "stdout",
     "output_type": "stream",
     "text": [
      "HolasoyClaudio\n"
     ]
    }
   ],
   "source": [
    "# 23. Concatena una lista de palabras.Usa la función reduce() .\n",
    "\n",
    "from functools import reduce\n",
    "\n",
    "def concatenar(lista):\n",
    "    return reduce(lambda x, y: x + y, lista)\n",
    "\n",
    "resultado=concatenar([\"Hola\",\"soy\",\"Claudio\"])\n",
    "print(resultado)"
   ]
  },
  {
   "cell_type": "code",
   "execution_count": 15,
   "id": "b0cc0ba4",
   "metadata": {},
   "outputs": [
    {
     "name": "stdout",
     "output_type": "stream",
     "text": [
      "13\n"
     ]
    }
   ],
   "source": [
    "#24. Calcula la diferencia total en los valores de una lista. Usa la función reduce() .\n",
    "\n",
    "from functools import reduce\n",
    "\n",
    "def diferencia(lista):\n",
    "    return reduce(lambda x, y: x - y, lista)\n",
    "\n",
    "resultado=diferencia([20,5,2])\n",
    "print(resultado)"
   ]
  },
  {
   "cell_type": "code",
   "execution_count": 19,
   "id": "68da1cb9",
   "metadata": {},
   "outputs": [
    {
     "name": "stdout",
     "output_type": "stream",
     "text": [
      "4\n"
     ]
    }
   ],
   "source": [
    "#25. Crea una función que cuente el número de caracteres en una cadena de texto dada.\n",
    "\n",
    "def contar(longitud):\n",
    "    return len(longitud)\n",
    "\n",
    "palabra = (\"Hola\")\n",
    "resultado=contar(palabra)\n",
    "\n",
    "print(resultado)"
   ]
  },
  {
   "cell_type": "code",
   "execution_count": 8,
   "id": "ffcc3553",
   "metadata": {},
   "outputs": [
    {
     "name": "stdout",
     "output_type": "stream",
     "text": [
      "[{'nombre': 'dafd', 'edad': 25, 'calificacion': 96}, {'nombre': 'Ana', 'edad': 20, 'calificacion': 95}, {'nombre': 'Sofía', 'edad': 19, 'calificacion': 92}]\n"
     ]
    }
   ],
   "source": [
    "#18. Escribe un programa en Python que cree una lista de diccionarios que contenga información de estudiantes (nombre, edad, calificación) y use la función filter \n",
    "# para extraer a los estudiantes con una calificación mayor o igual a 90. Usa la función filter()\n",
    "\n",
    "nombre = input(\"Escribe tu nombre: \")\n",
    "edad = int(input(\"Escribe tu edad en numeros: \"))\n",
    "calificacion = int(input(\"Escribe la calificación en numeros: \"))\n",
    "\n",
    "estudiante = {\n",
    "    \"nombre\": nombre,\n",
    "    \"edad\": edad,\n",
    "    \"calificacion\": calificacion\n",
    "}\n",
    "\n",
    "estudiantes = [\n",
    "    estudiante,\n",
    "    {\"nombre\": \"Ana\", \"edad\": 20, \"calificacion\": 95},\n",
    "    {\"nombre\": \"Luis\", \"edad\": 21, \"calificacion\": 88},\n",
    "    {\"nombre\": \"Sofía\", \"edad\": 19, \"calificacion\": 92}\n",
    "]\n",
    "\n",
    "estudiantes_destacados = filter(lambda x: x[\"calificacion\"] >= 90, estudiantes)\n",
    "\n",
    "\n",
    "print(list(estudiantes_destacados))\n"
   ]
  },
  {
   "cell_type": "code",
   "execution_count": null,
   "id": "5e5d1ab5",
   "metadata": {},
   "outputs": [
    {
     "name": "stdout",
     "output_type": "stream",
     "text": [
      "Estudiantes con calificación mayor o igual a 90:\n",
      "{'nombre': 'dfd', 'edad': 25, 'calificacion': 96}\n",
      "{'nombre': 'Ana', 'edad': 20, 'calificacion': 95}\n",
      "{'nombre': 'Sofía', 'edad': 19, 'calificacion': 92}\n"
     ]
    }
   ],
   "source": [
    "nombre = input(\"Escribe tu nombre: \")\n",
    "edad = int(input(\"Escribe tu edad en numeros: \"))\n",
    "calificacion = int(input(\"Escribe la calificación en numeros: \"))\n",
    "\n",
    "estudiante = {\n",
    "    \"nombre\": nombre,\n",
    "    \"edad\": edad,\n",
    "    \"calificacion\": calificacion\n",
    "}\n",
    "\n",
    "estudiantes = [\n",
    "    estudiante,\n",
    "    {\"nombre\": \"Ana\", \"edad\": 20, \"calificacion\": 95},\n",
    "    {\"nombre\": \"Luis\", \"edad\": 21, \"calificacion\": 88},\n",
    "    {\"nombre\": \"Sofía\", \"edad\": 19, \"calificacion\": 92}\n",
    "]\n",
    "\n",
    "estudiantes_destacados = list(filter(lambda x: x[\"calificacion\"] >= 90, estudiantes))\n",
    "\n",
    "print(\"Estudiantes con calificación mayor o igual a 90:\")\n",
    "for e in estudiantes_destacados:\n",
    "    print(e)\n",
    "\n",
    "#Estas son las dos formas de hacer el ejercicio, yo lo hice de la primera forma, IA me recomendó hacerlo asi ya que de esta forma muestra el resultado de forma mas ordenada\n",
    "#como objeto - valor de cada uno, haciendo que se vea mejor, la funcion trabaja sobre lista de cada calificacion dejando los mayores a 90.\n",
    "#Se coloca una lista de diccionarios para que se pueda usar filter, ya que el filtro compara sobre algo para filtrar, si no hay con que comparar daría error"
   ]
  },
  {
   "cell_type": "code",
   "execution_count": 16,
   "id": "39670271",
   "metadata": {},
   "outputs": [
    {
     "name": "stdout",
     "output_type": "stream",
     "text": [
      "1\n"
     ]
    }
   ],
   "source": [
    "resto = lambda x, y: x % y\n",
    "print(resto(9, 2))  \n"
   ]
  },
  {
   "cell_type": "code",
   "execution_count": 21,
   "id": "fccf0efe",
   "metadata": {},
   "outputs": [
    {
     "name": "stdout",
     "output_type": "stream",
     "text": [
      "6.0\n"
     ]
    }
   ],
   "source": [
    "# 27. Crea una función que calcule el promedio de una lista de números.\n",
    "\n",
    "def promedio (lista):\n",
    "    media = sum(lista) / len(lista)\n",
    "    return media\n",
    "\n",
    "lista_numeros=[5,6,7]\n",
    "\n",
    "resultado=promedio(lista_numeros)\n",
    "\n",
    "print(resultado)"
   ]
  },
  {
   "cell_type": "code",
   "execution_count": null,
   "id": "39cff0e7",
   "metadata": {},
   "outputs": [
    {
     "name": "stdout",
     "output_type": "stream",
     "text": [
      "5\n"
     ]
    }
   ],
   "source": [
    "#28. Crea una función que busque y devuelva el primer elemento duplicado en una lista dada.\n",
    "\n",
    "def duplicados(lista):\n",
    "    vistos = []\n",
    "    for elemento in lista: #trabajamos sobre los elementos del PARAMETRO de la funcion\n",
    "        if elemento in vistos: #Si el elemento esta en vistos (lista donde iran agregandose los elementos dependiendo de nuestras condiciones)\n",
    "            return elemento  # Primer duplicado encontrado, lo coloca, si no lo encuentra usa el Else y va poniendo los numeros, cuando lo encuentra se ejecuta el IF y se usa el return\n",
    "        #para parar el bucle y solo devolver el primer numero duplicado, sin el return el bucle seguiría\n",
    "        else:\n",
    "            vistos.append(elemento) #coloca el elemento en la lista si no hay duplicados, por eso el else\n",
    "    return None  # Si no hay duplicados, devuelve none, lo colocamos en el bloque del for ya que es lo que devolverá si no se cumplen condiciones del for, en vez de devolver la lista vacia\n",
    "\n",
    "Lista = [5,6,7,5,4,2,7]\n",
    "\n",
    "resultado=duplicados(Lista)\n",
    "print(resultado)"
   ]
  },
  {
   "cell_type": "code",
   "execution_count": null,
   "id": "cd2b105d",
   "metadata": {},
   "outputs": [],
   "source": [
    "def enmascarar(texto):\n",
    "    # Convertimos a string por si el valor que recibimos es un número\n",
    "    # Así podemos trabajar con él como si fuera una lista de caracteres:\n",
    "    # - usar len() para contar\n",
    "    # - usar slicing (texto[-4:]) para acceder a partes del texto\n",
    "    texto = str(texto)\n",
    "\n",
    "    # Si el texto tiene 4 o menos caracteres, no lo enmascaramos\n",
    "    if len(texto) <= 4:\n",
    "        return texto\n",
    "    else:\n",
    "        # Calculamos cuántos caracteres debemos ocultar (todos menos los últimos 4)\n",
    "        cantidad_enmascarada = len(texto) - 4\n",
    "\n",
    "        # Creamos una cadena con \"#\" repetida esa cantidad de veces\n",
    "        parte_oculta = \"#\" * cantidad_enmascarada\n",
    "\n",
    "        # Obtenemos los últimos 4 caracteres del texto original\n",
    "        parte_visible = texto[-4:]\n",
    "\n",
    "        # Devolvemos la parte oculta + la parte visible\n",
    "        return parte_oculta + parte_visible\n",
    "\n",
    "\n",
    "# Ejemplos de uso\n",
    "print(enmascarar(\"123456789\"))  # Resultado: \"#####6789\"\n",
    "print(enmascarar(\"hola\"))       # Resultado: \"hola\"\n",
    "print(enmascarar(987654321))    # Resultado: \"#####4321\"\n",
    "\n"
   ]
  },
  {
   "cell_type": "code",
   "execution_count": 28,
   "id": "3606abc9",
   "metadata": {},
   "outputs": [
    {
     "name": "stdout",
     "output_type": "stream",
     "text": [
      "True\n",
      "False\n"
     ]
    }
   ],
   "source": [
    "def son_anagramas(palabra1, palabra2):\n",
    "    # Convertimos todo a minúsculas por si hay mayúsculas mezcladas\n",
    "    palabra1 = palabra1.lower()\n",
    "    palabra2 = palabra2.lower()\n",
    "\n",
    "    # Si al ordenar las letras las palabras quedan iguales → son anagramas\n",
    "    if sorted(palabra1) == sorted(palabra2): #el sorted nos ordena las letras alfabeticamente pongamos lo que pongamos, por lo que si son iguales devuelve true, sino false\n",
    "        return True\n",
    "    else:\n",
    "        return False\n",
    "\n",
    "print(son_anagramas(\"amor\", \"roma\"))     \n",
    "print(son_anagramas(\"perro\", \"gato\")) \n"
   ]
  },
  {
   "cell_type": "code",
   "execution_count": null,
   "id": "8f6502d8",
   "metadata": {},
   "outputs": [
    {
     "name": "stdout",
     "output_type": "stream",
     "text": [
      "claudio fue encontrado en la lista.\n"
     ]
    }
   ],
   "source": [
    "#31. Crea una función que solicite al usuario ingresar una lista de nombres y luego solicite un nombre para buscar en esa lista. Si el nombre está en la lista, se imprime un mensaje \n",
    "# indicando que fue encontrado, de lo contrario, se lanza una excepción.\n",
    "\n",
    "def buscar_nombre(): #lo colocamos sin parametros ya que las variables se piden dentro de la funcion al tener Input\n",
    "    # Pedimos la lista de nombres al usuario (separados por coma)\n",
    "    entrada = input(\"Introduce una lista de nombres separados por comas: \")\n",
    "    nombres = entrada.split(\",\")  # Convertimos a lista separando por comas\n",
    "\n",
    "    # Limpiamos los espacios en blanco\n",
    "    nombres = [nombre.strip() for nombre in nombres] #strip quita los espacios de todas las variables\n",
    "\n",
    "    # Pedimos el nombre que vamos a buscar\n",
    "    nombre_a_buscar = input(\"Introduce el nombre a buscar: \").strip()\n",
    "\n",
    "    # Buscamos el nombre\n",
    "    if nombre_a_buscar in nombres:\n",
    "        print(f\"{nombre_a_buscar} fue encontrado en la lista.\")\n",
    "    else:\n",
    "        # Si no está, lanzamos una excepción\n",
    "        raise ValueError(f\"{nombre_a_buscar} no fue encontrado en la lista.\") #Usando el F-String se ve mas limpio\n",
    "\n",
    "buscar_nombre()"
   ]
  },
  {
   "cell_type": "code",
   "execution_count": 8,
   "id": "00682b8f",
   "metadata": {},
   "outputs": [
    {
     "name": "stdout",
     "output_type": "stream",
     "text": [
      "Pedro fue encontrado.\n",
      "None\n"
     ]
    }
   ],
   "source": [
    "def buscar_nombre_en_lista(lista, nombre_a_buscar):\n",
    "    if nombre_a_buscar in lista:\n",
    "        print(f\"{nombre_a_buscar} fue encontrado.\")\n",
    "    else:\n",
    "        raise ValueError((nombre_a_buscar),\" no fue encontrado.\")\n",
    "    \n",
    "\n",
    "lista = [\"Ana\", \"Pedro\", \"Lucía\"]\n",
    "Resultado = buscar_nombre_en_lista(lista, \"Pedro\")\n",
    "print(Resultado)\n",
    "\n",
    "\n",
    "\n",
    "#Esta es una version sin input que había hecho yo para aclararme de mas o menos como sería"
   ]
  },
  {
   "cell_type": "code",
   "execution_count": null,
   "id": "5b7f7cc5",
   "metadata": {},
   "outputs": [
    {
     "name": "stdout",
     "output_type": "stream",
     "text": [
      "Analista\n"
     ]
    }
   ],
   "source": [
    "#32. Crea una función que tome un nombre completo y una lista de empleados, busque el nombre completo en la lista y devuelve el puesto del empleado si está en la lista, \n",
    "# de lo contrario, devuelve un mensaje indicando que la persona no trabaja aquí.\n",
    " \n",
    "empleados = [\n",
    "    {\"nombre\": \"Ana Gómez\", \"puesto\": \"Analista\"},\n",
    "    {\"nombre\": \"Luis Pérez\", \"puesto\": \"Contador\"},\n",
    "    {\"nombre\": \"Sofía Ruiz\", \"puesto\": \"Gerente\"}\n",
    "]\n",
    "\n",
    "buscar_nombre = \"Ana Gómez\"\n",
    "\n",
    "for elemento in empleados:\n",
    "    if elemento [\"nombre\"].lower() == buscar_nombre.lower():\n",
    "        print (elemento[\"puesto\"])\n",
    "\n",
    "#Hago primero el ejercicio sin la función para ver como plasmarlo"
   ]
  },
  {
   "cell_type": "code",
   "execution_count": null,
   "id": "320c3fbc",
   "metadata": {},
   "outputs": [
    {
     "name": "stdout",
     "output_type": "stream",
     "text": [
      "Analista\n",
      "El empleado no está en la lista\n"
     ]
    }
   ],
   "source": [
    "#ESTO ES LO QUE PIDE EL EJERCICIO\n",
    "\n",
    "def buscar_puesto(nombre_buscado, lista_empleados):\n",
    "    for empleado in lista_empleados:\n",
    "        if empleado[\"nombre\"].lower() == nombre_buscado.lower():\n",
    "            return empleado[\"puesto\"]\n",
    "    return \"El empleado no está en la lista\"\n",
    "\n",
    "empleados = [\n",
    "    {\"nombre\": \"Ana Gómez\", \"puesto\": \"Analista\"},\n",
    "    {\"nombre\": \"Luis Pérez\", \"puesto\": \"Contador\"},\n",
    "    {\"nombre\": \"Sofía Ruiz\", \"puesto\": \"Gerente\"}\n",
    "]\n",
    "\n",
    "# Probando con un nombre que sí existe\n",
    "print(buscar_puesto(\"ana gómez\", empleados))   \n",
    "\n",
    "# Probando con uno que no existe\n",
    "print(buscar_puesto(\"Carlos Reyes\", empleados))  \n"
   ]
  },
  {
   "cell_type": "code",
   "execution_count": 38,
   "id": "14f7e9ba",
   "metadata": {},
   "outputs": [
    {
     "name": "stdout",
     "output_type": "stream",
     "text": [
      "[10, 12, 14]\n"
     ]
    }
   ],
   "source": [
    "#33. Crea una función lambda que sume elementos correspondientes de dos listas dadas.\n",
    "\n",
    "def suma(lista1, lista2):\n",
    "    return (map(lambda x, y: x + y, lista1, lista2))\n",
    "\n",
    "Numeros1=[5,6,7]\n",
    "Numeros2=[5,6,7]\n",
    "\n",
    "resultado=suma(Numeros1, Numeros2)\n",
    "print(list(resultado))"
   ]
  },
  {
   "cell_type": "code",
   "execution_count": null,
   "id": "da6ee01b",
   "metadata": {},
   "outputs": [
    {
     "name": "stdout",
     "output_type": "stream",
     "text": [
      "Tronco: 3\n",
      "Número de ramas: 3\n",
      "Longitudes de ramas: [2, 2, 2]\n",
      "Tronco: 3\n",
      "Número de ramas: 2\n",
      "Longitudes de ramas: [2, 2]\n"
     ]
    }
   ],
   "source": [
    "#34. Crea la clase Arbol , define un árbol genérico con un tronco y ramas como atributos. Los métodos disponibles son:\n",
    "#crecer_tronco , nueva_rama , crecer_ramas , quitar_rama e info_arbol . El objetivo es implementar estos métodos para\n",
    "#manipular la estructura del árbol.\n",
    "#Código a seguir:\n",
    "#1. Inicializar un árbol con un tronco de longitud 1 y una lista vacía de ramas.\n",
    "#2. Implementar el método crecer_tronco para aumentar la longitud del tronco en una unidad.\n",
    "#3. Implementar el método nueva_rama para agregar una nueva rama de longitud 1 a la lista de ramas.\n",
    "#4. Implementar el método crecer_ramas para aumentar en una unidad la longitud de todas las ramas existentes.\n",
    "#5. Implementar el método quitar_rama para eliminar una rama en una posición específica.\n",
    "#6. Implementar el método\n",
    "#info_arbol para devolver información sobre la longitud del tronco, el número de ramas y las longitudes de las\n",
    "#mismas.\n",
    "#Caso de uso:\n",
    "#1. Crear un árbol.\n",
    "#2. Hacer crecer el tronco del árbol una unidad.\n",
    "#3. Añadir una nueva rama al árbol.\n",
    "#4. Hacer crecer todas las ramas del árbol una unidad.\n",
    "#5. Añadir dos nuevas ramas al árbol.\n",
    "#6. Retirar la rama situada en la posición 2.\n",
    "#7. Obtener información sobre el árbol.\n",
    "\n",
    "class Arbol:\n",
    "    def __init__(self):\n",
    "        # El tronco empieza con longitud 1\n",
    "        self.tronco = 1\n",
    "        # La lista de ramas comienza vacía\n",
    "        self.ramas = []\n",
    "\n",
    "    def crecer_tronco(self):\n",
    "        # Aumenta la longitud del tronco en 1\n",
    "        self.tronco += 1\n",
    "\n",
    "    def nueva_rama(self):\n",
    "        # Añade una nueva rama con longitud 1\n",
    "        self.ramas.append(1)\n",
    "\n",
    "    def crecer_ramas(self):\n",
    "        # Aumenta en 1 la longitud de cada rama usando list comprehension\n",
    "        self.ramas = [rama + 1 for rama in self.ramas]\n",
    "\n",
    "    def quitar_rama(self, posicion):\n",
    "        # Verificamos que la posición sea válida\n",
    "        if posicion >= 0 and posicion < len(self.ramas):\n",
    "            self.ramas.pop(posicion) #con el pop quitamos la posicion que eligamos luego al llamar el metodo mas abajo (al colocar posición elegimos luego que quitamos, no como los anteriores\n",
    "            #que todo está definido)\n",
    "        else:\n",
    "            print(\"Posición no válida\")\n",
    "\n",
    "    def info_arbol(self):\n",
    "        # Muestra información actual del árbol\n",
    "        print(f\"Tronco: {self.tronco}\")\n",
    "        print(f\"Número de ramas: {len(self.ramas)}\")\n",
    "        print(f\"Longitudes de ramas: {self.ramas}\")\n",
    "\n",
    "\n",
    "Arbolito=Arbol() #Creamos el arbol con la clase que nos va a traer un tronco y una lista de ramas vacía donde agregaremos los demas metodos\n",
    "Arbolito.crecer_tronco()\n",
    "Arbolito.crecer_tronco()#hacemos crecer los troncos\n",
    "Arbolito.nueva_rama()\n",
    "Arbolito.nueva_rama()\n",
    "Arbolito.nueva_rama() #creamos las ramas\n",
    "Arbolito.crecer_ramas() #hacemos crecer las ramas\n",
    "Arbolito.info_arbol() #traemos la info antes de eliminar una de las ramas\n",
    "Arbolito.quitar_rama(2) #Aqui colocamos la posicion que queremos quitar ya que en el metodo no colocamos una posición fija, sino que al agregar el parametro posición nosotros colocamos el valor\n",
    "Arbolito.info_arbol() #volvemos a traer la info de las ramas"
   ]
  },
  {
   "cell_type": "code",
   "execution_count": 61,
   "id": "2ed6354d",
   "metadata": {},
   "outputs": [
    {
     "name": "stdout",
     "output_type": "stream",
     "text": [
      "Bob ha recibido 20, su saldo es de 70\n",
      "Bob no tiene suficiente saldo para transferir\n",
      "Ha retirado 50, su saldo actual es de 50\n"
     ]
    }
   ],
   "source": [
    "# Kata 35 – Clase UsuarioBanco\n",
    "# Crea la clase UsuarioBanco, representa a un usuario de un banco con su nombre, saldo y si tiene o no cuenta corriente. Proporciona métodos para realizar operaciones como:\n",
    "# - retirar dinero\n",
    "# - transferir dinero desde otro usuario\n",
    "# - agregar dinero al saldo.\n",
    "# Código a seguir:\n",
    "# 1. Inicializar un usuario con su nombre, saldo y si tiene o no cuenta corriente mediante True o False.\n",
    "# 2. Implementar el método retirar_dinero para retirar dinero del saldo del usuario. Lanzará un error en caso de no poder hacerse.\n",
    "# 3. Implementar el método transferir_dinero para realizar una transferencia desde otro usuario al usuario actual. Lanzará un error en caso de no poder hacerse.\n",
    "# 4. Implementar el método agregar_dinero para agregar dinero al saldo del usuario.\n",
    "# Caso de uso:\n",
    "# 1. Crear dos usuarios: \"Alicia\" con saldo inicial de 100 y \"Bob\" con saldo inicial de 50, ambos con cuenta corriente.\n",
    "# 2. Agregar 20 unidades de saldo a \"Bob\".\n",
    "# 3. Hacer una transferencia de 80 unidades desde \"Bob\" a \"Alicia\".\n",
    "# 4. Retirar 50 unidades de saldo de \"Alicia\".\n",
    "\n",
    "class UsuarioBanco:\n",
    "    def __init__(self, nombre, saldo, cuenta_corriente): #como nos pide usuarios diferentes, esta vez colocamos los parametros para elegirlos en los self y poder cambiarlos cuando los llamemos\n",
    "        self.usuario = nombre\n",
    "        self.saldo = saldo\n",
    "        self.cuenta_corriente = cuenta_corriente\n",
    "\n",
    "\n",
    "    def retirar_dinero(self, cantidad):\n",
    "        if self.saldo >= cantidad:\n",
    "            self.saldo-=cantidad\n",
    "            print(f\"Ha retirado {cantidad}, su saldo actual es de {self.saldo}\")\n",
    "        else:\n",
    "            print(\"Saldo insuficiente para la operación\")\n",
    "    \n",
    "    def transferir_dinero(self, otro_usuario, cantidad):\n",
    "        if self.saldo >= cantidad:\n",
    "            self.saldo -= cantidad #Aqui estamos diciendo que si el saldo es mayor o igual a la cantidad elegida entonces se resta el saldo del usuario DE LA CLASE\n",
    "            otro_usuario.saldo += cantidad #El usuario que colocamos como parametro se le suma la cantidad de la transferencia\n",
    "            print(f\"{self.usuario} ha transferido {cantidad} a {otro_usuario.usuario}\") \n",
    "        else:\n",
    "            print(f\"{self.usuario} no tiene suficiente saldo para transferir\")\n",
    "\n",
    "    def agregar_dinero(self, cantidad):\n",
    "        self.saldo += cantidad\n",
    "        print(f\"{self.usuario} ha recibido {cantidad}, su saldo es de {self.saldo}\")\n",
    "\n",
    "    \n",
    "Alicia = UsuarioBanco(\"Alicia\", 100, True)\n",
    "Bob = UsuarioBanco(\"Bob\", 50, True)\n",
    "\n",
    "Bob.agregar_dinero(20)\n",
    "Bob.transferir_dinero(Alicia, 80)\n",
    "Alicia.retirar_dinero(50)\n",
    "\n"
   ]
  },
  {
   "cell_type": "code",
   "execution_count": null,
   "id": "1b8042c2",
   "metadata": {},
   "outputs": [
    {
     "name": "stdout",
     "output_type": "stream",
     "text": [
      "{'hola': 1, 'mundo': 2}\n",
      "hola amigo\n",
      "Hola\n",
      "{'hola': 1, 'mundo': 2}\n",
      "hola amigo\n",
      "hola\n"
     ]
    }
   ],
   "source": [
    "# Kata 36 – Función procesar_texto\n",
    "# Crea una función llamada `procesar_texto` que procese un texto según la opción especificada:\n",
    "# Las opciones disponibles son:\n",
    "# - contar_palabras → cuenta cuántas veces aparece cada palabra\n",
    "# - reemplazar_palabras → reemplaza una palabra por otra\n",
    "# - eliminar_palabra → elimina una palabra del texto\n",
    "# Código a seguir:\n",
    "# 1. Crear una función `contar_palabras` que reciba un texto y devuelva un diccionario con la frecuencia de cada palabra.\n",
    "# 2. Crear una función `reemplazar_palabras` que reciba un texto, una palabra_original y una palabra_nueva y devuelva el texto con la palabra reemplazada.\n",
    "# 3. Crear una función `eliminar_palabra` que reciba un texto y una palabra, y devuelva el texto sin esa palabra.\n",
    "# 4. Crear una función `procesar_texto` que reciba:\n",
    "#    - el texto\n",
    "#    - una opción entre \"contar\", \"reemplazar\", \"eliminar\"\n",
    "#    - argumentos adicionales según la opción\n",
    "# Caso de uso esperado:\n",
    "# - procesar_texto(\"hola mundo mundo\", \"contar\") → {'hola': 1, 'mundo': 2}\n",
    "# - procesar_texto(\"hola mundo\", \"reemplazar\", \"mundo\", \"amigo\") → \"hola amigo\"\n",
    "# - procesar_texto(\"hola mundo mundo\", \"eliminar\", \"mundo\") → \"hola\"\n",
    "\n",
    "#Funcion 1\n",
    "def contar_palabras(texto):\n",
    "    diccionario = {}\n",
    "    palabras = texto.split()  # divide el texto en palabras\n",
    "\n",
    "    for palabra in palabras:\n",
    "        if palabra in diccionario:\n",
    "            diccionario[palabra] += 1 #lo hacemos de esta forma para agregar el valor a cada celda, en diccionarios no se usa el Append (lo recuerdo para mi)\n",
    "        else:\n",
    "            diccionario[palabra] = 1\n",
    "    return diccionario\n",
    "\n",
    "resultado= contar_palabras(\"hola mundo mundo\")\n",
    "print(resultado)\n",
    "\n",
    "#Funcion 2\n",
    "def reemplazar_palabras(texto, palabra_original, palabra_nueva):\n",
    "    nuevo_texto = texto.replace(palabra_original, palabra_nueva)#replace para reemplazar la palabra que queramos del texto\n",
    "    return nuevo_texto\n",
    "\n",
    "resultado = reemplazar_palabras(\"hola mundo\", \"mundo\", \"amigo\")\n",
    "print(resultado)  \n",
    "\n",
    "#Funcion 3\n",
    "\n",
    "def eliminar_palabra(texto, palabra_a_eliminar):\n",
    "    palabras = texto.split()  # Separamos el texto en una lista de palabras\n",
    "\n",
    "    # Creamos una nueva lista solo con las palabras que NO son la que queremos eliminar\n",
    "    resultado = [palabra for palabra in palabras if palabra != palabra_a_eliminar] # Guarda palabra (como hacer la lista vacia en un for normal y colocar el .append, el append solo se usa en listas) \n",
    "    #por cada palabra en palabras si palabra es diferente de la que quiero eliminar\n",
    "\n",
    "    return \" \".join(resultado)  # Volvemos a unir la lista en un solo string separado por espacios\n",
    "\n",
    "resultado = eliminar_palabra (\"Hola mundo\", \"mundo\")\n",
    "print (resultado)\n",
    "\n",
    "# Funcion 4- la final que elige que funcion de las otras 3 se ejecutará\n",
    "def procesar_texto(texto, opcion, *args): #usamos args ya que al tener 3 funciones estas pueden tener varios parametros, por lo que la funcion principal indicamos eso con el args y luego modificamos dentro\n",
    "    # Si la opción es \"contar\", solo necesitamos el texto\n",
    "    if opcion == \"contar\":\n",
    "        return contar_palabras(texto)\n",
    "\n",
    "    # Si la opción es \"reemplazar\", esperamos 2 palabras adicionales\n",
    "    elif opcion == \"reemplazar\":\n",
    "        if len(args) == 2:\n",
    "            palabra_original = args[0]#Les damos la posición a cada variable dentro de la tupla para que luego pueda cambiarse\n",
    "            palabra_nueva = args[1]\n",
    "            return reemplazar_palabras(texto, palabra_original, palabra_nueva)\n",
    "        else:\n",
    "            return \"Faltan parámetros para reemplazar\"\n",
    "\n",
    "    # Si la opción es \"eliminar\", esperamos 1 palabra adicional\n",
    "    elif opcion == \"eliminar\":\n",
    "        if len(args) == 1:\n",
    "            palabra_a_eliminar = args[0]\n",
    "            return eliminar_palabra(texto, palabra_a_eliminar)\n",
    "        else:\n",
    "            return \"Falta la palabra a eliminar\"\n",
    "\n",
    "    else:\n",
    "        return \"Opción no válida\"\n",
    "\n",
    "print(procesar_texto(\"hola mundo mundo\", \"contar\"))\n",
    "\n",
    "\n",
    "print(procesar_texto(\"hola mundo\", \"reemplazar\", \"mundo\", \"amigo\"))\n",
    "\n",
    "\n",
    "print(procesar_texto(\"hola mundo mundo\", \"eliminar\", \"mundo\"))\n",
    "\n"
   ]
  },
  {
   "cell_type": "code",
   "execution_count": 16,
   "id": "c2b45926",
   "metadata": {},
   "outputs": [
    {
     "name": "stdout",
     "output_type": "stream",
     "text": [
      "No se permite colocar texto\n"
     ]
    }
   ],
   "source": [
    "# 38. Genera un programa que nos diga si es de noche, de día o tarde según la hora proporcionada por el usuario.\n",
    "\n",
    "try:\n",
    "    hora=int(input(\"Ingresa la hora en número sin los dos puntos (por ejemplo: 15 equivale a las 15:00 de la tarde)\"))\n",
    "    if hora >=6 and hora<= 12:\n",
    "        print (f\"Son las {hora} de la mañana\")\n",
    "    elif hora >=13 and hora<= 18:\n",
    "        print (f\"Son las {hora} de la tarde\")\n",
    "    elif hora >=19 and hora<= 24:\n",
    "        print (f\"Son las {hora} de la noche\")\n",
    "    elif hora >=1 and hora<= 5:\n",
    "        print (f\"Son las {hora} de la madrugada\")\n",
    "    else:\n",
    "        print (\"Introduce un valor válido\")\n",
    "except ValueError:\n",
    "    print (\"No se permite colocar texto\")\n",
    "\n",
    "#Se hace un programa donde indicamos colocar la hora en numer"
   ]
  },
  {
   "cell_type": "code",
   "execution_count": 17,
   "id": "88b3de60",
   "metadata": {},
   "outputs": [
    {
     "name": "stdout",
     "output_type": "stream",
     "text": [
      "Insuficiente\n"
     ]
    }
   ],
   "source": [
    "#39. Escribe un programa que determine qué calificación en texto tiene un alumno en base a su calificación numérica. Las reglas de calificación son:\n",
    "#- 0 - 69 insuficiente\n",
    "#- 70 - 79 bien\n",
    "#- 80 - 89 muy bien\n",
    "#- 90 - 100 excelente\n",
    "\n",
    "try:\n",
    "    nota=int(input(\"Ingresa la nota en número\"))\n",
    "    if nota >=0 and nota<= 69:\n",
    "        print (f\"Insuficiente\")\n",
    "    elif nota >=70 and nota<= 79:\n",
    "        print (f\"Bien\")\n",
    "    elif nota >=80 and nota<= 89:\n",
    "        print (f\"Muy bien\")\n",
    "    elif nota >=90 and nota<= 100:\n",
    "        print (f\"Excelente\")\n",
    "    else:\n",
    "        print (\"Introduce un valor válido\")\n",
    "except ValueError:\n",
    "    print (\"No se permite colocar texto\")\n"
   ]
  },
  {
   "cell_type": "code",
   "execution_count": null,
   "id": "243ce199",
   "metadata": {},
   "outputs": [
    {
     "name": "stdout",
     "output_type": "stream",
     "text": [
      "15\n",
      "12.0\n",
      "12.56\n",
      "Figura no válida\n"
     ]
    }
   ],
   "source": [
    "#40. Escribe una función que tome dos parámetros: figura (una cadena que puede ser \"rectangulo\" , \"circulo\" o \"triangulo\" ) \n",
    "# y datos (una tupla con los datos necesarios para calcular el área de la figura).\n",
    "\n",
    "def calculo(figura, *args):#utilizo args ya que no se cuantos parametros pueden llegarse a usar en los condicionales\n",
    "    if figura == \"rectangulo\":\n",
    "        if len(args) == 2:\n",
    "            largo = args[0]\n",
    "            ancho = args[1]\n",
    "            return largo * ancho #utilizo los return para que devuelvan las formulas dependiendo de la figura que elijan\n",
    "        else:\n",
    "            return \"El rectángulo necesita 2 datos (largo y ancho)\"\n",
    "\n",
    "    elif figura == \"triangulo\":\n",
    "        if len(args) == 2:\n",
    "            base = args[0]\n",
    "            altura = args[1]\n",
    "            return (base * altura) / 2\n",
    "        else:\n",
    "            return \"El triángulo necesita 2 datos (base y altura)\"\n",
    "\n",
    "    elif figura == \"circulo\":\n",
    "        if len(args) == 1:\n",
    "            radio = args[0]\n",
    "            pi = 3.14\n",
    "            return pi * (radio ** 2)\n",
    "        else:\n",
    "            return \"El círculo necesita solo 1 dato (radio)\" #utilizo los Else para indicar el dato que necesita cada formula por si lo colocan mal\n",
    "\n",
    "    else:\n",
    "        return \"Figura no válida\"\n",
    "\n",
    "print(calculo(\"rectangulo\", 5, 3))\n",
    "print(calculo(\"triangulo\", 4, 6))   \n",
    "print(calculo(\"circulo\", 2))   \n",
    "print(calculo(\"cuadrado\", 2))    "
   ]
  },
  {
   "cell_type": "code",
   "execution_count": null,
   "id": "7eb880c3",
   "metadata": {},
   "outputs": [],
   "source": [
    "\n",
    "# Kata 41 – Descuento en tienda online\n",
    "#\n",
    "# En este ejercicio, se te pedirá que escribas un programa en Python que utilice condicionales\n",
    "# para determinar el monto final de una compra en una tienda en línea, después de aplicar un descuento.\n",
    "#\n",
    "# El programa debe hacer lo siguiente:\n",
    "# 1. Solicita al usuario que ingrese el precio original de un artículo.\n",
    "# 2. Pregunta al usuario si tiene un cupón de descuento (respuesta \"sí\" o \"no\").\n",
    "# 3. Si el usuario responde que \"sí\", solicita que ingrese el valor del cupón de descuento.\n",
    "# 4. Aplica el descuento al precio original del artículo, siempre y cuando el valor del cupón sea válido (mayor a cero).\n",
    "# 5. Muestra el precio final de la compra, teniendo en cuenta el descuento aplicado o no.\n",
    "# 6. Recuerda utilizar estructuras de control de flujo como if, elif y else para llevar a cabo estas acciones.\n",
    "\n",
    "try:\n",
    "    # 1. Solicitamos el precio original\n",
    "    precio = float(input(\"Introduce el precio original del artículo (€): \"))\n",
    "\n",
    "    # 2. Preguntamos si tiene cupón\n",
    "    tiene_cupon = input(\"¿Tienes un cupón de descuento? (sí / no): \").lower()\n",
    "\n",
    "    # 3. Si tiene cupón, pedimos el valor del cupón\n",
    "    if tiene_cupon == \"sí\":\n",
    "        descuento = float(input(\"Introduce el valor del cupón (€): \"))\n",
    "        \n",
    "        # 4. Validamos que el descuento sea positivo\n",
    "        if descuento > 0:\n",
    "            precio_final = precio - descuento\n",
    "            print(f\"Se ha aplicado un descuento de {descuento}€. Precio final: {precio_final}€\")\n",
    "        else:\n",
    "            print(\"El valor del cupón no es válido. No se aplicará ningún descuento.\")\n",
    "            print(f\"Precio final: {precio}€\")\n",
    "\n",
    "    # 5. Si no tiene cupón\n",
    "    elif tiene_cupon == \"no\":\n",
    "        print(f\"No se ha aplicado ningún descuento. Precio final: {precio}€\")\n",
    "\n",
    "    # 6. Entrada no válida\n",
    "    else:\n",
    "        print(\"Respuesta no válida. Por favor escribe 'sí' o 'no'.\")\n",
    "\n",
    "except ValueError:\n",
    "    print(\"Por favor, introduce solo números donde se te pide.\")\n"
   ]
  }
 ],
 "metadata": {
  "kernelspec": {
   "display_name": "Python 3",
   "language": "python",
   "name": "python3"
  },
  "language_info": {
   "codemirror_mode": {
    "name": "ipython",
    "version": 3
   },
   "file_extension": ".py",
   "mimetype": "text/x-python",
   "name": "python",
   "nbconvert_exporter": "python",
   "pygments_lexer": "ipython3",
   "version": "3.13.0"
  }
 },
 "nbformat": 4,
 "nbformat_minor": 5
}
